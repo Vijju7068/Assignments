{
 "cells": [
  {
   "cell_type": "markdown",
   "id": "be9c1199-da72-4a04-af3f-e0f004a3c401",
   "metadata": {},
   "source": [
    "\"\"\"Q1. Explain with an example each when to use a for loop and a while loop.\"\"\"\n",
    "\n",
    "\n",
    "\n",
    "# For loop:\n",
    "#     For loop is a control flow statement which is used to iterate over a sequence and execute a block of code for each time in the sequence.\n",
    "    \n",
    "# While Loop:\n",
    "#     While loop is a control flow statement that allows you to repeatadly execute a block of code until the given condition remains true:\n",
    "    \n",
    "    \n"
   ]
  },
  {
   "cell_type": "code",
   "execution_count": 1,
   "id": "2cebb50b-b198-4c8f-8277-317e0a26668d",
   "metadata": {},
   "outputs": [
    {
     "name": "stdout",
     "output_type": "stream",
     "text": [
      "1\n",
      "2\n",
      "3\n",
      "4\n",
      "5\n",
      "6\n",
      "7\n",
      "8\n",
      "9\n"
     ]
    }
   ],
   "source": [
    "# For loop example:\n",
    "\n",
    "for i in range(1,10):\n",
    "    print(i)"
   ]
  },
  {
   "cell_type": "code",
   "execution_count": 2,
   "id": "fc27dcb1-0dbb-4471-9d77-cf8199b5a99c",
   "metadata": {},
   "outputs": [
    {
     "name": "stdout",
     "output_type": "stream",
     "text": [
      "5\n",
      "6\n",
      "7\n",
      "8\n",
      "9\n",
      "10\n"
     ]
    }
   ],
   "source": [
    "#While loop example:\n",
    "v = 5\n",
    "\n",
    "while v <=10:\n",
    "    print(v)\n",
    "    v= v+1"
   ]
  },
  {
   "cell_type": "markdown",
   "id": "3f659609-975e-4fbe-b559-c290a84ff3ee",
   "metadata": {},
   "source": [
    "# Q2. Write a python program to print the sum and product of the first 10 natural numbers using for\n",
    "# and while loop."
   ]
  },
  {
   "cell_type": "code",
   "execution_count": 3,
   "id": "9f8c7d26-7886-458e-a4fc-b91c49daa0a7",
   "metadata": {},
   "outputs": [
    {
     "name": "stdout",
     "output_type": "stream",
     "text": [
      "55\n"
     ]
    }
   ],
   "source": [
    "\n",
    "#For loop:\n",
    "\n",
    "sum = 0\n",
    "\n",
    "for i in range(0,11):\n",
    "    sum = sum+i\n",
    "    i = i+1\n",
    "    \n",
    "print(sum)"
   ]
  },
  {
   "cell_type": "code",
   "execution_count": 4,
   "id": "d754f4a1-37f4-45a3-a642-f5b3e6eae2a9",
   "metadata": {},
   "outputs": [
    {
     "name": "stdout",
     "output_type": "stream",
     "text": [
      "55\n"
     ]
    }
   ],
   "source": [
    "#While loop\n",
    "\n",
    "summ = 0\n",
    "num = 1\n",
    "while num<=10:\n",
    "    summ = summ+num\n",
    "    num= num+1\n",
    "    \n",
    "print(summ)\n"
   ]
  },
  {
   "cell_type": "markdown",
   "id": "b7a969b2-df20-4b12-9f06-2bc9e37aaaea",
   "metadata": {},
   "source": [
    "# Q3. Create a python program to compute the electricity bill for a household.\n",
    "# The per-unit charges in rupees are as follows: For the first 100 units, the user will be charged Rs. 4.5 per\n",
    "# unit, for the next 100 units, the user will be charged Rs. 6 per unit, and for the next 100 units, the user will\n",
    "# be charged Rs. 10 per unit, After 300 units and above the user will be charged Rs. 20 per unit.\n",
    "# You are required to take the units of electricity consumed in a month from the user as input.\n",
    "# Your program must pass this test case: when the unit of electricity consumed by the user in a month is\n",
    "# 310, the total electricity bill should be 2250."
   ]
  },
  {
   "cell_type": "code",
   "execution_count": 5,
   "id": "4c954a5c-ed07-4670-bb1a-d34f86c6cdd5",
   "metadata": {},
   "outputs": [
    {
     "name": "stdin",
     "output_type": "stream",
     "text": [
      "Enter the number of units consumed:  310\n"
     ]
    },
    {
     "name": "stdout",
     "output_type": "stream",
     "text": [
      "Electricity Bill: Rs.  2250.0\n"
     ]
    }
   ],
   "source": [
    "units = int(input(\"Enter the number of units consumed: \"))\n",
    "\n",
    "if units <= 100:\n",
    "    charges = units * 4.5\n",
    "elif units <= 200:\n",
    "    charges = 100 * 4.5 + (units - 100) * 6\n",
    "elif units <= 300:\n",
    "    charges = 100 * 4.5 + 100 * 6 + (units - 200) * 10\n",
    "else:\n",
    "    charges = 100 * 4.5 + 100 * 6 + 100 * 10 + (units - 300) * 20\n",
    "\n",
    "print(\"Electricity Bill: Rs. \", charges)"
   ]
  },
  {
   "cell_type": "markdown",
   "id": "423d9246-705a-410c-ab2b-bdc717ee3cf8",
   "metadata": {},
   "source": [
    "# Q4. Create a list of numbers from 1 to 100. Use for loop and while loop to calculate the cube of each\n",
    "# number and if the cube of that number is divisible by 4 or 5 then append that number in a list and print\n",
    "# that list."
   ]
  },
  {
   "cell_type": "code",
   "execution_count": 6,
   "id": "2a8f0db7-e710-4ca4-bc55-12b4181027da",
   "metadata": {},
   "outputs": [
    {
     "name": "stdout",
     "output_type": "stream",
     "text": [
      "[2, 4, 5, 6, 8, 10, 12, 14, 15, 16, 18, 20, 22, 24, 25, 26, 28, 30, 32, 34, 35, 36, 38, 40, 42, 44, 45, 46, 48, 50, 52, 54, 55, 56, 58, 60, 62, 64, 65, 66, 68, 70, 72, 74, 75, 76, 78, 80, 82, 84, 85, 86, 88, 90, 92, 94, 95, 96, 98, 100]\n"
     ]
    }
   ],
   "source": [
    "#For loop\n",
    "\n",
    "l1 = []\n",
    "for i in range(1,101):\n",
    "    if (i**3)%4==0 or (i**3)%5==0:\n",
    "        l1.append(i)\n",
    "        \n",
    "print(l1)"
   ]
  },
  {
   "cell_type": "code",
   "execution_count": 7,
   "id": "6312f674-b0bb-48c1-a6a3-39e2a3c6185c",
   "metadata": {},
   "outputs": [
    {
     "name": "stdout",
     "output_type": "stream",
     "text": [
      "[2, 4, 5, 6, 8, 10, 12, 14, 15, 16, 18, 20, 22, 24, 25, 26, 28, 30, 32, 34, 35, 36, 38, 40, 42, 44, 45, 46, 48, 50, 52, 54, 55, 56, 58, 60, 62, 64, 65, 66, 68, 70, 72, 74, 75, 76, 78, 80, 82, 84, 85, 86, 88, 90, 92, 94, 95, 96, 98, 100]\n"
     ]
    }
   ],
   "source": [
    "#while loop\n",
    "\n",
    "numbers = list(range(1, 101))\n",
    "result = []\n",
    "i = 0\n",
    "\n",
    "while i < len(numbers):\n",
    "    cube = numbers[i] ** 3\n",
    "    if cube % 4 == 0 or cube % 5 == 0:\n",
    "        result.append(numbers[i])\n",
    "    i += 1\n",
    "\n",
    "print(result)"
   ]
  },
  {
   "cell_type": "markdown",
   "id": "8273fde2-aa64-4c79-8620-3714d4912954",
   "metadata": {},
   "source": [
    "# Q5. Write a program to filter count vowels in the below-given string.\n",
    "# string = \"I want to become a data scientist\""
   ]
  },
  {
   "cell_type": "code",
   "execution_count": 10,
   "id": "e9def298-ee2d-4536-8feb-9b2914e0426d",
   "metadata": {},
   "outputs": [
    {
     "name": "stdout",
     "output_type": "stream",
     "text": [
      "0\n"
     ]
    }
   ],
   "source": [
    "string = \"I want to become a data scientist\"\n",
    "vowel = \"aeiouAEIOU\"\n",
    "\n",
    "count = 0\n",
    "for i in string:\n",
    "    if string == vowel:\n",
    "        count= count+1\n",
    "        \n",
    "print(count)\n",
    "    \n",
    "\n",
    "    \n",
    "    \n",
    "    "
   ]
  },
  {
   "cell_type": "code",
   "execution_count": null,
   "id": "4b44817a-9706-42a8-ab40-744e21df0dfd",
   "metadata": {},
   "outputs": [],
   "source": []
  }
 ],
 "metadata": {
  "kernelspec": {
   "display_name": "Python 3 (ipykernel)",
   "language": "python",
   "name": "python3"
  },
  "language_info": {
   "codemirror_mode": {
    "name": "ipython",
    "version": 3
   },
   "file_extension": ".py",
   "mimetype": "text/x-python",
   "name": "python",
   "nbconvert_exporter": "python",
   "pygments_lexer": "ipython3",
   "version": "3.10.8"
  }
 },
 "nbformat": 4,
 "nbformat_minor": 5
}
